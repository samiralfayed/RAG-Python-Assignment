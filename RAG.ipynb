{
  "cells": [
    {
      "cell_type": "markdown",
      "metadata": {
        "id": "view-in-github",
        "colab_type": "text"
      },
      "source": [
        "<a href=\"https://colab.research.google.com/github/samiralfayed/RAG-Python-Assignment/blob/main/RAG.ipynb\" target=\"_parent\"><img src=\"https://colab.research.google.com/assets/colab-badge.svg\" alt=\"Open In Colab\"/></a>"
      ]
    },
    {
      "cell_type": "code",
      "execution_count": null,
      "metadata": {
        "colab": {
          "base_uri": "https://localhost:8080/"
        },
        "id": "zscbLRdHhiTK",
        "outputId": "82bf4c2f-2f80-4821-eb25-e6c37633f188"
      },
      "outputs": [
        {
          "name": "stdout",
          "output_type": "stream",
          "text": [
            "Drive already mounted at /content/drive; to attempt to forcibly remount, call drive.mount(\"/content/drive\", force_remount=True).\n"
          ]
        }
      ],
      "source": [
        "from google.colab import drive\n",
        "drive.mount('/content/drive')"
      ]
    },
    {
      "cell_type": "code",
      "execution_count": null,
      "metadata": {
        "colab": {
          "base_uri": "https://localhost:8080/"
        },
        "id": "WC-bv8jchxOo",
        "outputId": "016abf92-d480-4061-eb2c-26099266f48e"
      },
      "outputs": [
        {
          "name": "stdout",
          "output_type": "stream",
          "text": [
            "/content/drive/MyDrive/rag-api-local\n"
          ]
        }
      ],
      "source": [
        "cd /content/drive/MyDrive/rag-api-local"
      ]
    },
    {
      "cell_type": "markdown",
      "metadata": {
        "id": "IZL9DNazh1eJ"
      },
      "source": [
        "Install Dependencies"
      ]
    },
    {
      "cell_type": "code",
      "execution_count": null,
      "metadata": {
        "colab": {
          "base_uri": "https://localhost:8080/"
        },
        "id": "C0bFt5QEhzUB",
        "outputId": "d75a1f5e-2e7c-49bd-ebae-e22b4f961a2a"
      },
      "outputs": [
        {
          "name": "stdout",
          "output_type": "stream",
          "text": [
            "W: Skipping acquire of configured file 'main/source/Sources' as repository 'https://r2u.stat.illinois.edu/ubuntu jammy InRelease' does not seem to provide it (sources.list entry misspelt?)\n",
            "Reading package lists... Done\n",
            "Building dependency tree... Done\n",
            "Reading state information... Done\n",
            "tesseract-ocr is already the newest version (4.1.1-2.1build1).\n",
            "0 upgraded, 0 newly installed, 0 to remove and 35 not upgraded.\n"
          ]
        }
      ],
      "source": [
        "!pip install faiss-cpu pdfplumber python-docx pytesseract easyocr \\\n",
        "chromadb fastapi uvicorn nest-asyncio python-multipart transformers sentence-transformers > /dev/null\n",
        "!sudo apt-get update -qq\n",
        "!sudo apt-get install -y tesseract-ocr\n",
        "!pip install pyngrok > /dev/null"
      ]
    },
    {
      "cell_type": "markdown",
      "metadata": {
        "id": "T4KvY0g3h3UX"
      },
      "source": [
        " Import Libraries"
      ]
    },
    {
      "cell_type": "code",
      "execution_count": null,
      "metadata": {
        "id": "_nVB4GkLh5kq"
      },
      "outputs": [],
      "source": [
        "import os\n",
        "import pytesseract\n",
        "import pdfplumber\n",
        "import docx\n",
        "import faiss\n",
        "import easyocr\n",
        "import numpy as np\n",
        "import nest_asyncio\n",
        "import uvicorn\n",
        "from fastapi import FastAPI, UploadFile, File, Form\n",
        "from fastapi.responses import JSONResponse\n",
        "from pyngrok import ngrok\n",
        "from typing import Optional\n",
        "\n",
        "from transformers import pipeline\n",
        "from sentence_transformers import SentenceTransformer"
      ]
    },
    {
      "cell_type": "markdown",
      "metadata": {
        "id": "_IMyxT87h8dz"
      },
      "source": [
        "Initialize Embeddings and LLM"
      ]
    },
    {
      "cell_type": "code",
      "execution_count": null,
      "metadata": {
        "colab": {
          "base_uri": "https://localhost:8080/"
        },
        "id": "S-oSeevLh-aE",
        "outputId": "e1c34b1e-7086-4c18-8dc2-7d2f76730628"
      },
      "outputs": [
        {
          "name": "stderr",
          "output_type": "stream",
          "text": [
            "Device set to use cpu\n"
          ]
        }
      ],
      "source": [
        "model = SentenceTransformer('all-MiniLM-L6-v2')\n",
        "embedding_dim = 384\n",
        "index = faiss.IndexFlatL2(embedding_dim)\n",
        "chunks_db = []\n",
        "\n",
        "qa_pipeline = pipeline(\"text2text-generation\", model=\"google/flan-t5-base\")"
      ]
    },
    {
      "cell_type": "code",
      "execution_count": null,
      "metadata": {
        "id": "eLg9wtNNiGth"
      },
      "outputs": [],
      "source": [
        "PDF_PATH = \"/content/drive/MyDrive/rag-api-local/THE_DECLARATION_OF_INDEPENDENCE_1776.pdf\""
      ]
    },
    {
      "cell_type": "code",
      "execution_count": null,
      "metadata": {
        "id": "m9OTXb6GiHYQ"
      },
      "outputs": [],
      "source": [
        "def extract_text_from_path(PDF_PATH):\n",
        "    ext = PDF_PATH.split(\".\")[-1].lower()\n",
        "    text = \"\"\n",
        "    if ext == \"pdf\":\n",
        "        with pdfplumber.open(PDF_PATH) as pdf:\n",
        "            for page in pdf.pages:\n",
        "                text += page.extract_text() + \"\\n\"\n",
        "    elif ext == \"docx\":\n",
        "        doc = docx.Document(PDF_PATH)\n",
        "        for para in doc.paragraphs:\n",
        "            text += para.text + \"\\n\"\n",
        "    elif ext == \"txt\":\n",
        "        with open(PDF_PATH, \"r\", encoding=\"utf-8\") as f:\n",
        "            text = f.read()\n",
        "    elif ext in [\"jpg\", \"jpeg\", \"png\"]:\n",
        "        text = pytesseract.image_to_string(PDF_PATH)\n",
        "    else:\n",
        "        text = \"Unsupported file type.\"\n",
        "    return text\n",
        "\n",
        "def chunk_text(text, chunk_size=300, overlap=50):\n",
        "    words = text.split()\n",
        "    chunks = []\n",
        "    for i in range(0, len(words), chunk_size - overlap):\n",
        "        chunk = \" \".join(words[i:i + chunk_size])\n",
        "        chunks.append(chunk)\n",
        "    return chunks\n",
        "\n",
        "def store_chunks(chunks, file_id):\n",
        "    embeddings = model.encode(chunks)\n",
        "    index.add(np.array(embeddings).astype(\"float32\"))\n",
        "    for i, chunk in enumerate(chunks):\n",
        "        chunks_db.append({\"file_id\": file_id, \"chunk\": chunk})\n",
        "\n",
        "def search_similar(query):\n",
        "    q_embed = model.encode([query]).astype(\"float32\")\n",
        "    D, I = index.search(q_embed, k=3)\n",
        "    results = [chunks_db[i]['chunk'] for i in I[0]]\n",
        "    return \"\\n\".join(results)\n",
        "\n",
        "def ask_huggingface(context, question):\n",
        "    prompt = f\"Context: {context}\\n\\nQuestion: {question}\\nAnswer:\"\n",
        "    result = qa_pipeline(prompt, max_length=256, do_sample=False)\n",
        "    return result[0]['generated_text']"
      ]
    },
    {
      "cell_type": "code",
      "execution_count": null,
      "metadata": {
        "colab": {
          "base_uri": "https://localhost:8080/"
        },
        "id": "JaCQheoViKrR",
        "outputId": "db2ca3ad-922e-43a7-fe62-f351daecf1a3"
      },
      "outputs": [
        {
          "name": "stderr",
          "output_type": "stream",
          "text": [
            "/usr/local/lib/python3.11/dist-packages/torch/nn/modules/module.py:1750: FutureWarning: `encoder_attention_mask` is deprecated and will be removed in version 4.55.0 for `BertSdpaSelfAttention.forward`.\n",
            "  return forward_call(*args, **kwargs)\n"
          ]
        },
        {
          "name": "stdout",
          "output_type": "stream",
          "text": [
            "Loaded and embedded: THE_DECLARATION_OF_INDEPENDENCE_1776.pdf with 10 chunks\n"
          ]
        }
      ],
      "source": [
        "text = extract_text_from_path(PDF_PATH)\n",
        "chunks = chunk_text(text)\n",
        "file_id = os.path.basename(PDF_PATH)\n",
        "store_chunks(chunks, file_id)\n",
        "print(f\"Loaded and embedded: {file_id} with {len(chunks)} chunks\")"
      ]
    },
    {
      "cell_type": "markdown",
      "metadata": {
        "id": "_iBL75ZEiO0h"
      },
      "source": [
        "FastAPI App"
      ]
    },
    {
      "cell_type": "code",
      "execution_count": 84,
      "metadata": {
        "colab": {
          "base_uri": "https://localhost:8080/"
        },
        "id": "qXeJW6BPvVYH",
        "outputId": "05eca4eb-d31b-415e-f2af-3f57bb6ae55d"
      },
      "outputs": [
        {
          "output_type": "stream",
          "name": "stdout",
          "text": [
            "Requirement already satisfied: fastapi in /usr/local/lib/python3.11/dist-packages (0.116.1)\n",
            "Requirement already satisfied: pyngrok in /usr/local/lib/python3.11/dist-packages (7.3.0)\n",
            "Requirement already satisfied: uvicorn in /usr/local/lib/python3.11/dist-packages (0.35.0)\n",
            "Requirement already satisfied: python-multipart in /usr/local/lib/python3.11/dist-packages (0.0.20)\n",
            "Requirement already satisfied: starlette<0.48.0,>=0.40.0 in /usr/local/lib/python3.11/dist-packages (from fastapi) (0.47.2)\n",
            "Requirement already satisfied: pydantic!=1.8,!=1.8.1,!=2.0.0,!=2.0.1,!=2.1.0,<3.0.0,>=1.7.4 in /usr/local/lib/python3.11/dist-packages (from fastapi) (2.11.7)\n",
            "Requirement already satisfied: typing-extensions>=4.8.0 in /usr/local/lib/python3.11/dist-packages (from fastapi) (4.14.1)\n",
            "Requirement already satisfied: PyYAML>=5.1 in /usr/local/lib/python3.11/dist-packages (from pyngrok) (6.0.2)\n",
            "Requirement already satisfied: click>=7.0 in /usr/local/lib/python3.11/dist-packages (from uvicorn) (8.2.1)\n",
            "Requirement already satisfied: h11>=0.8 in /usr/local/lib/python3.11/dist-packages (from uvicorn) (0.16.0)\n",
            "Requirement already satisfied: annotated-types>=0.6.0 in /usr/local/lib/python3.11/dist-packages (from pydantic!=1.8,!=1.8.1,!=2.0.0,!=2.0.1,!=2.1.0,<3.0.0,>=1.7.4->fastapi) (0.7.0)\n",
            "Requirement already satisfied: pydantic-core==2.33.2 in /usr/local/lib/python3.11/dist-packages (from pydantic!=1.8,!=1.8.1,!=2.0.0,!=2.0.1,!=2.1.0,<3.0.0,>=1.7.4->fastapi) (2.33.2)\n",
            "Requirement already satisfied: typing-inspection>=0.4.0 in /usr/local/lib/python3.11/dist-packages (from pydantic!=1.8,!=1.8.1,!=2.0.0,!=2.0.1,!=2.1.0,<3.0.0,>=1.7.4->fastapi) (0.4.1)\n",
            "Requirement already satisfied: anyio<5,>=3.6.2 in /usr/local/lib/python3.11/dist-packages (from starlette<0.48.0,>=0.40.0->fastapi) (4.10.0)\n",
            "Requirement already satisfied: idna>=2.8 in /usr/local/lib/python3.11/dist-packages (from anyio<5,>=3.6.2->starlette<0.48.0,>=0.40.0->fastapi) (3.10)\n",
            "Requirement already satisfied: sniffio>=1.1 in /usr/local/lib/python3.11/dist-packages (from anyio<5,>=3.6.2->starlette<0.48.0,>=0.40.0->fastapi) (1.3.1)\n"
          ]
        }
      ],
      "source": [
        "!pip install fastapi pyngrok uvicorn python-multipart"
      ]
    },
    {
      "cell_type": "code",
      "execution_count": 85,
      "metadata": {
        "id": "yyRLkHssiPf6"
      },
      "outputs": [],
      "source": [
        "from fastapi import FastAPI, UploadFile, File, Form\n",
        "from fastapi.responses import JSONResponse\n",
        "from fastapi.responses import Response\n",
        "\n",
        "app = FastAPI()\n",
        "\n",
        "@app.post(\"/upload\")\n",
        "async def upload_file(file: UploadFile = File(\"/content/drive/MyDrive/rag-api-local/THE_DECLARATION_OF_INDEPENDENCE_1776.pdf\")):\n",
        "    text = extract_text(file)\n",
        "    chunks = chunk_text(text)\n",
        "    file_id = file.filename\n",
        "    store_chunks(chunks, file_id)\n",
        "    return {\"file_id\": file_id, \"chunks\": len(chunks)}\n",
        "\n",
        "@app.post(\"/query\")\n",
        "async def query(question: str = Form(...)):\n",
        "    context = search_similar(question)\n",
        "    answer = ask_huggingface(context, question)\n",
        "    return JSONResponse(content={\n",
        "        \"question\": question,\n",
        "        \"context\": context,\n",
        "        \"answer\": answer\n",
        "    })\n",
        "\n",
        "@app.get(\"/\")\n",
        "def root():\n",
        "    return {\"message\": \"RAG API running with HuggingFace LLM\"}\n",
        "\n",
        "@app.get(\"/favicon.ico\")\n",
        "async def favicon():\n",
        "    return Response(content=\"\", media_type=\"image/x-icon\")"
      ]
    },
    {
      "cell_type": "markdown",
      "metadata": {
        "id": "k_wbvbAHiVRh"
      },
      "source": [
        "Run via ngrok"
      ]
    },
    {
      "cell_type": "code",
      "execution_count": 86,
      "metadata": {
        "colab": {
          "base_uri": "https://localhost:8080/"
        },
        "id": "J_ilQuGGrtji",
        "outputId": "e0b00d9e-1081-4abd-c805-0295a4716dd7"
      },
      "outputs": [
        {
          "output_type": "stream",
          "name": "stdout",
          "text": [
            "API available at: NgrokTunnel: \"https://f2ff320c0f65.ngrok-free.app\" -> \"http://localhost:8000\"\n"
          ]
        },
        {
          "output_type": "stream",
          "name": "stderr",
          "text": [
            "INFO:     Started server process [1044]\n",
            "INFO:     Waiting for application startup.\n",
            "INFO:     Application startup complete.\n",
            "INFO:     Uvicorn running on http://127.0.0.1:8000 (Press CTRL+C to quit)\n"
          ]
        },
        {
          "output_type": "stream",
          "name": "stdout",
          "text": [
            "INFO:     103.243.244.21:0 - \"GET / HTTP/1.1\" 200 OK\n",
            "INFO:     103.243.244.21:0 - \"GET /favicon.ico HTTP/1.1\" 200 OK\n",
            "INFO:     103.243.244.17:0 - \"POST /upload HTTP/1.1\" 422 Unprocessable Entity\n"
          ]
        },
        {
          "output_type": "stream",
          "name": "stderr",
          "text": [
            "/usr/local/lib/python3.11/dist-packages/torch/nn/modules/module.py:1750: FutureWarning: `encoder_attention_mask` is deprecated and will be removed in version 4.55.0 for `BertSdpaSelfAttention.forward`.\n",
            "  return forward_call(*args, **kwargs)\n",
            "Both `max_new_tokens` (=256) and `max_length`(=256) seem to have been set. `max_new_tokens` will take precedence. Please refer to the documentation for more information. (https://huggingface.co/docs/transformers/main/en/main_classes/text_generation)\n"
          ]
        },
        {
          "output_type": "stream",
          "name": "stdout",
          "text": [
            "INFO:     103.243.244.17:0 - \"POST /query HTTP/1.1\" 200 OK\n"
          ]
        },
        {
          "output_type": "stream",
          "name": "stderr",
          "text": [
            "Both `max_new_tokens` (=256) and `max_length`(=256) seem to have been set. `max_new_tokens` will take precedence. Please refer to the documentation for more information. (https://huggingface.co/docs/transformers/main/en/main_classes/text_generation)\n",
            "WARNING:pyngrok.process.ngrok:t=2025-08-08T14:52:40+0000 lvl=warn msg=\"Stopping forwarder\" name=http-8000-be0c5801-7363-413c-95c5-2b534ccd9a37 acceptErr=\"failed to accept connection: Listener closed\"\n"
          ]
        },
        {
          "output_type": "stream",
          "name": "stdout",
          "text": [
            "INFO:     103.243.244.17:0 - \"POST /query HTTP/1.1\" 200 OK\n"
          ]
        },
        {
          "output_type": "stream",
          "name": "stderr",
          "text": [
            "INFO:     Shutting down\n",
            "INFO:     Waiting for application shutdown.\n",
            "INFO:     Application shutdown complete.\n",
            "INFO:     Finished server process [1044]\n"
          ]
        }
      ],
      "source": [
        "from google.colab import userdata\n",
        "\n",
        "nest_asyncio.apply()\n",
        "\n",
        "NGROK_AUTH_TOKEN = userdata.get('NGROK_AUTH_TOKEN')\n",
        "ngrok.set_auth_token(NGROK_AUTH_TOKEN)\n",
        "\n",
        "public_url = ngrok.connect(8000)\n",
        "print(f\"API available at: {public_url}\")\n",
        "\n",
        "uvicorn.run(app, port=8000)"
      ]
    }
  ],
  "metadata": {
    "colab": {
      "provenance": [],
      "authorship_tag": "ABX9TyMDPMQ59oDRyZi/VtqaMHkX",
      "include_colab_link": true
    },
    "kernelspec": {
      "display_name": "Python 3",
      "name": "python3"
    },
    "language_info": {
      "name": "python"
    }
  },
  "nbformat": 4,
  "nbformat_minor": 0
}